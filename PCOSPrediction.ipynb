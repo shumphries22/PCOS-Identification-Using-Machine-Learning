{
  "nbformat": 4,
  "nbformat_minor": 0,
  "metadata": {
    "colab": {
      "provenance": []
    },
    "kernelspec": {
      "name": "python3",
      "display_name": "Python 3"
    },
    "language_info": {
      "name": "python"
    }
  },
  "cells": [
    {
      "cell_type": "markdown",
      "source": [
        "# PCOS Prediction Model\n",
        "This model will be used to predict PCOS. <br>\n",
        "<br>Firstly, we will load the PCOS dataset taken from Kaggle --> https://www.kaggle.com/datasets/prasoonkottarathil/polycystic-ovary-syndrome-pcos/data\n",
        "<br>\n"
      ],
      "metadata": {
        "id": "NmMJ8eB88Nvk"
      }
    },
    {
      "cell_type": "markdown",
      "source": [
        "###Load/Import Dataset"
      ],
      "metadata": {
        "id": "vVeXOg8aFN6S"
      }
    },
    {
      "cell_type": "code",
      "execution_count": null,
      "metadata": {
        "id": "Of1EGTYN8Eiv"
      },
      "outputs": [],
      "source": [
        "import pandas as pd\n",
        "import numpy as np\n",
        "from sklearn.model_selection import train_test_split\n",
        "from sklearn import svm\n",
        "from sklearn.svm import SVC\n",
        "from sklearn.preprocessing import StandardScaler\n",
        "from sklearn.metrics import accuracy_score\n",
        "from mlxtend.feature_selection import SequentialFeatureSelector\n",
        "import statsmodels.api as sm\n"
      ]
    },
    {
      "cell_type": "code",
      "source": [
        "originalDataset = pd.read_csv(\"datasetOriginalCSV.csv\")\n",
        "#print (originalDataset.loc[0])\n",
        "originalDataset.head()"
      ],
      "metadata": {
        "id": "leCo5tLe8Wkr",
        "colab": {
          "base_uri": "https://localhost:8080/",
          "height": 325
        },
        "outputId": "32cbd85c-c421-4caa-f468-51d68792ca42"
      },
      "execution_count": null,
      "outputs": [
        {
          "output_type": "execute_result",
          "data": {
            "text/plain": [
              "   SI. No  Patient File .No  PCOS (Y/N)  Age (yrs)  Weight (kg)  Height (cm)   \\\n",
              "0       1                 1           0         28         44.6         152.0   \n",
              "1       2                 2           0         36         65.0         161.5   \n",
              "2       3                 3           1         33         68.8         165.0   \n",
              "3       4                 4           0         37         65.0         148.0   \n",
              "4       5                 5           0         25         52.0         161.0   \n",
              "\n",
              "         BMI  Blood group  Pulse Rate (bpm)  RR (breaths/min)  ...  \\\n",
              "0  19.300000           15                78                22  ...   \n",
              "1  24.921163           15                74                20  ...   \n",
              "2  25.270891           11                72                18  ...   \n",
              "3  29.674945           13                72                20  ...   \n",
              "4  20.060954           11                72                18  ...   \n",
              "\n",
              "   Pimples (Y/N)  Fast food (Y/N)  Reg.Exercise(Y/N)  BP _Systolic (mmHg)  \\\n",
              "0              0                1                  0                  110   \n",
              "1              0                0                  0                  120   \n",
              "2              1                1                  0                  120   \n",
              "3              0                0                  0                  120   \n",
              "4              0                0                  0                  120   \n",
              "\n",
              "   BP _Diastolic (mmHg)  Follicle No. (L)  Follicle No. (R)  \\\n",
              "0                    80                 3                 3   \n",
              "1                    70                 3                 5   \n",
              "2                    80                13                15   \n",
              "3                    70                 2                 2   \n",
              "4                    80                 3                 4   \n",
              "\n",
              "   Avg. F size (L) (mm)  Avg. F size (R) (mm)  Endometrium (mm)  \n",
              "0                  18.0                  18.0               8.5  \n",
              "1                  15.0                  14.0               3.7  \n",
              "2                  18.0                  20.0              10.0  \n",
              "3                  15.0                  14.0               7.5  \n",
              "4                  16.0                  14.0               7.0  \n",
              "\n",
              "[5 rows x 44 columns]"
            ],
            "text/html": [
              "\n",
              "  <div id=\"df-9e16c65a-3574-45e8-9fff-c29c878da3ed\" class=\"colab-df-container\">\n",
              "    <div>\n",
              "<style scoped>\n",
              "    .dataframe tbody tr th:only-of-type {\n",
              "        vertical-align: middle;\n",
              "    }\n",
              "\n",
              "    .dataframe tbody tr th {\n",
              "        vertical-align: top;\n",
              "    }\n",
              "\n",
              "    .dataframe thead th {\n",
              "        text-align: right;\n",
              "    }\n",
              "</style>\n",
              "<table border=\"1\" class=\"dataframe\">\n",
              "  <thead>\n",
              "    <tr style=\"text-align: right;\">\n",
              "      <th></th>\n",
              "      <th>SI. No</th>\n",
              "      <th>Patient File .No</th>\n",
              "      <th>PCOS (Y/N)</th>\n",
              "      <th>Age (yrs)</th>\n",
              "      <th>Weight (kg)</th>\n",
              "      <th>Height (cm)</th>\n",
              "      <th>BMI</th>\n",
              "      <th>Blood group</th>\n",
              "      <th>Pulse Rate (bpm)</th>\n",
              "      <th>RR (breaths/min)</th>\n",
              "      <th>...</th>\n",
              "      <th>Pimples (Y/N)</th>\n",
              "      <th>Fast food (Y/N)</th>\n",
              "      <th>Reg.Exercise(Y/N)</th>\n",
              "      <th>BP _Systolic (mmHg)</th>\n",
              "      <th>BP _Diastolic (mmHg)</th>\n",
              "      <th>Follicle No. (L)</th>\n",
              "      <th>Follicle No. (R)</th>\n",
              "      <th>Avg. F size (L) (mm)</th>\n",
              "      <th>Avg. F size (R) (mm)</th>\n",
              "      <th>Endometrium (mm)</th>\n",
              "    </tr>\n",
              "  </thead>\n",
              "  <tbody>\n",
              "    <tr>\n",
              "      <th>0</th>\n",
              "      <td>1</td>\n",
              "      <td>1</td>\n",
              "      <td>0</td>\n",
              "      <td>28</td>\n",
              "      <td>44.6</td>\n",
              "      <td>152.0</td>\n",
              "      <td>19.300000</td>\n",
              "      <td>15</td>\n",
              "      <td>78</td>\n",
              "      <td>22</td>\n",
              "      <td>...</td>\n",
              "      <td>0</td>\n",
              "      <td>1</td>\n",
              "      <td>0</td>\n",
              "      <td>110</td>\n",
              "      <td>80</td>\n",
              "      <td>3</td>\n",
              "      <td>3</td>\n",
              "      <td>18.0</td>\n",
              "      <td>18.0</td>\n",
              "      <td>8.5</td>\n",
              "    </tr>\n",
              "    <tr>\n",
              "      <th>1</th>\n",
              "      <td>2</td>\n",
              "      <td>2</td>\n",
              "      <td>0</td>\n",
              "      <td>36</td>\n",
              "      <td>65.0</td>\n",
              "      <td>161.5</td>\n",
              "      <td>24.921163</td>\n",
              "      <td>15</td>\n",
              "      <td>74</td>\n",
              "      <td>20</td>\n",
              "      <td>...</td>\n",
              "      <td>0</td>\n",
              "      <td>0</td>\n",
              "      <td>0</td>\n",
              "      <td>120</td>\n",
              "      <td>70</td>\n",
              "      <td>3</td>\n",
              "      <td>5</td>\n",
              "      <td>15.0</td>\n",
              "      <td>14.0</td>\n",
              "      <td>3.7</td>\n",
              "    </tr>\n",
              "    <tr>\n",
              "      <th>2</th>\n",
              "      <td>3</td>\n",
              "      <td>3</td>\n",
              "      <td>1</td>\n",
              "      <td>33</td>\n",
              "      <td>68.8</td>\n",
              "      <td>165.0</td>\n",
              "      <td>25.270891</td>\n",
              "      <td>11</td>\n",
              "      <td>72</td>\n",
              "      <td>18</td>\n",
              "      <td>...</td>\n",
              "      <td>1</td>\n",
              "      <td>1</td>\n",
              "      <td>0</td>\n",
              "      <td>120</td>\n",
              "      <td>80</td>\n",
              "      <td>13</td>\n",
              "      <td>15</td>\n",
              "      <td>18.0</td>\n",
              "      <td>20.0</td>\n",
              "      <td>10.0</td>\n",
              "    </tr>\n",
              "    <tr>\n",
              "      <th>3</th>\n",
              "      <td>4</td>\n",
              "      <td>4</td>\n",
              "      <td>0</td>\n",
              "      <td>37</td>\n",
              "      <td>65.0</td>\n",
              "      <td>148.0</td>\n",
              "      <td>29.674945</td>\n",
              "      <td>13</td>\n",
              "      <td>72</td>\n",
              "      <td>20</td>\n",
              "      <td>...</td>\n",
              "      <td>0</td>\n",
              "      <td>0</td>\n",
              "      <td>0</td>\n",
              "      <td>120</td>\n",
              "      <td>70</td>\n",
              "      <td>2</td>\n",
              "      <td>2</td>\n",
              "      <td>15.0</td>\n",
              "      <td>14.0</td>\n",
              "      <td>7.5</td>\n",
              "    </tr>\n",
              "    <tr>\n",
              "      <th>4</th>\n",
              "      <td>5</td>\n",
              "      <td>5</td>\n",
              "      <td>0</td>\n",
              "      <td>25</td>\n",
              "      <td>52.0</td>\n",
              "      <td>161.0</td>\n",
              "      <td>20.060954</td>\n",
              "      <td>11</td>\n",
              "      <td>72</td>\n",
              "      <td>18</td>\n",
              "      <td>...</td>\n",
              "      <td>0</td>\n",
              "      <td>0</td>\n",
              "      <td>0</td>\n",
              "      <td>120</td>\n",
              "      <td>80</td>\n",
              "      <td>3</td>\n",
              "      <td>4</td>\n",
              "      <td>16.0</td>\n",
              "      <td>14.0</td>\n",
              "      <td>7.0</td>\n",
              "    </tr>\n",
              "  </tbody>\n",
              "</table>\n",
              "<p>5 rows × 44 columns</p>\n",
              "</div>\n",
              "    <div class=\"colab-df-buttons\">\n",
              "\n",
              "  <div class=\"colab-df-container\">\n",
              "    <button class=\"colab-df-convert\" onclick=\"convertToInteractive('df-9e16c65a-3574-45e8-9fff-c29c878da3ed')\"\n",
              "            title=\"Convert this dataframe to an interactive table.\"\n",
              "            style=\"display:none;\">\n",
              "\n",
              "  <svg xmlns=\"http://www.w3.org/2000/svg\" height=\"24px\" viewBox=\"0 -960 960 960\">\n",
              "    <path d=\"M120-120v-720h720v720H120Zm60-500h600v-160H180v160Zm220 220h160v-160H400v160Zm0 220h160v-160H400v160ZM180-400h160v-160H180v160Zm440 0h160v-160H620v160ZM180-180h160v-160H180v160Zm440 0h160v-160H620v160Z\"/>\n",
              "  </svg>\n",
              "    </button>\n",
              "\n",
              "  <style>\n",
              "    .colab-df-container {\n",
              "      display:flex;\n",
              "      gap: 12px;\n",
              "    }\n",
              "\n",
              "    .colab-df-convert {\n",
              "      background-color: #E8F0FE;\n",
              "      border: none;\n",
              "      border-radius: 50%;\n",
              "      cursor: pointer;\n",
              "      display: none;\n",
              "      fill: #1967D2;\n",
              "      height: 32px;\n",
              "      padding: 0 0 0 0;\n",
              "      width: 32px;\n",
              "    }\n",
              "\n",
              "    .colab-df-convert:hover {\n",
              "      background-color: #E2EBFA;\n",
              "      box-shadow: 0px 1px 2px rgba(60, 64, 67, 0.3), 0px 1px 3px 1px rgba(60, 64, 67, 0.15);\n",
              "      fill: #174EA6;\n",
              "    }\n",
              "\n",
              "    .colab-df-buttons div {\n",
              "      margin-bottom: 4px;\n",
              "    }\n",
              "\n",
              "    [theme=dark] .colab-df-convert {\n",
              "      background-color: #3B4455;\n",
              "      fill: #D2E3FC;\n",
              "    }\n",
              "\n",
              "    [theme=dark] .colab-df-convert:hover {\n",
              "      background-color: #434B5C;\n",
              "      box-shadow: 0px 1px 3px 1px rgba(0, 0, 0, 0.15);\n",
              "      filter: drop-shadow(0px 1px 2px rgba(0, 0, 0, 0.3));\n",
              "      fill: #FFFFFF;\n",
              "    }\n",
              "  </style>\n",
              "\n",
              "    <script>\n",
              "      const buttonEl =\n",
              "        document.querySelector('#df-9e16c65a-3574-45e8-9fff-c29c878da3ed button.colab-df-convert');\n",
              "      buttonEl.style.display =\n",
              "        google.colab.kernel.accessAllowed ? 'block' : 'none';\n",
              "\n",
              "      async function convertToInteractive(key) {\n",
              "        const element = document.querySelector('#df-9e16c65a-3574-45e8-9fff-c29c878da3ed');\n",
              "        const dataTable =\n",
              "          await google.colab.kernel.invokeFunction('convertToInteractive',\n",
              "                                                    [key], {});\n",
              "        if (!dataTable) return;\n",
              "\n",
              "        const docLinkHtml = 'Like what you see? Visit the ' +\n",
              "          '<a target=\"_blank\" href=https://colab.research.google.com/notebooks/data_table.ipynb>data table notebook</a>'\n",
              "          + ' to learn more about interactive tables.';\n",
              "        element.innerHTML = '';\n",
              "        dataTable['output_type'] = 'display_data';\n",
              "        await google.colab.output.renderOutput(dataTable, element);\n",
              "        const docLink = document.createElement('div');\n",
              "        docLink.innerHTML = docLinkHtml;\n",
              "        element.appendChild(docLink);\n",
              "      }\n",
              "    </script>\n",
              "  </div>\n",
              "\n",
              "\n",
              "<div id=\"df-e6540ec8-d770-410d-a09d-0661c49f8f0a\">\n",
              "  <button class=\"colab-df-quickchart\" onclick=\"quickchart('df-e6540ec8-d770-410d-a09d-0661c49f8f0a')\"\n",
              "            title=\"Suggest charts\"\n",
              "            style=\"display:none;\">\n",
              "\n",
              "<svg xmlns=\"http://www.w3.org/2000/svg\" height=\"24px\"viewBox=\"0 0 24 24\"\n",
              "     width=\"24px\">\n",
              "    <g>\n",
              "        <path d=\"M19 3H5c-1.1 0-2 .9-2 2v14c0 1.1.9 2 2 2h14c1.1 0 2-.9 2-2V5c0-1.1-.9-2-2-2zM9 17H7v-7h2v7zm4 0h-2V7h2v10zm4 0h-2v-4h2v4z\"/>\n",
              "    </g>\n",
              "</svg>\n",
              "  </button>\n",
              "\n",
              "<style>\n",
              "  .colab-df-quickchart {\n",
              "      --bg-color: #E8F0FE;\n",
              "      --fill-color: #1967D2;\n",
              "      --hover-bg-color: #E2EBFA;\n",
              "      --hover-fill-color: #174EA6;\n",
              "      --disabled-fill-color: #AAA;\n",
              "      --disabled-bg-color: #DDD;\n",
              "  }\n",
              "\n",
              "  [theme=dark] .colab-df-quickchart {\n",
              "      --bg-color: #3B4455;\n",
              "      --fill-color: #D2E3FC;\n",
              "      --hover-bg-color: #434B5C;\n",
              "      --hover-fill-color: #FFFFFF;\n",
              "      --disabled-bg-color: #3B4455;\n",
              "      --disabled-fill-color: #666;\n",
              "  }\n",
              "\n",
              "  .colab-df-quickchart {\n",
              "    background-color: var(--bg-color);\n",
              "    border: none;\n",
              "    border-radius: 50%;\n",
              "    cursor: pointer;\n",
              "    display: none;\n",
              "    fill: var(--fill-color);\n",
              "    height: 32px;\n",
              "    padding: 0;\n",
              "    width: 32px;\n",
              "  }\n",
              "\n",
              "  .colab-df-quickchart:hover {\n",
              "    background-color: var(--hover-bg-color);\n",
              "    box-shadow: 0 1px 2px rgba(60, 64, 67, 0.3), 0 1px 3px 1px rgba(60, 64, 67, 0.15);\n",
              "    fill: var(--button-hover-fill-color);\n",
              "  }\n",
              "\n",
              "  .colab-df-quickchart-complete:disabled,\n",
              "  .colab-df-quickchart-complete:disabled:hover {\n",
              "    background-color: var(--disabled-bg-color);\n",
              "    fill: var(--disabled-fill-color);\n",
              "    box-shadow: none;\n",
              "  }\n",
              "\n",
              "  .colab-df-spinner {\n",
              "    border: 2px solid var(--fill-color);\n",
              "    border-color: transparent;\n",
              "    border-bottom-color: var(--fill-color);\n",
              "    animation:\n",
              "      spin 1s steps(1) infinite;\n",
              "  }\n",
              "\n",
              "  @keyframes spin {\n",
              "    0% {\n",
              "      border-color: transparent;\n",
              "      border-bottom-color: var(--fill-color);\n",
              "      border-left-color: var(--fill-color);\n",
              "    }\n",
              "    20% {\n",
              "      border-color: transparent;\n",
              "      border-left-color: var(--fill-color);\n",
              "      border-top-color: var(--fill-color);\n",
              "    }\n",
              "    30% {\n",
              "      border-color: transparent;\n",
              "      border-left-color: var(--fill-color);\n",
              "      border-top-color: var(--fill-color);\n",
              "      border-right-color: var(--fill-color);\n",
              "    }\n",
              "    40% {\n",
              "      border-color: transparent;\n",
              "      border-right-color: var(--fill-color);\n",
              "      border-top-color: var(--fill-color);\n",
              "    }\n",
              "    60% {\n",
              "      border-color: transparent;\n",
              "      border-right-color: var(--fill-color);\n",
              "    }\n",
              "    80% {\n",
              "      border-color: transparent;\n",
              "      border-right-color: var(--fill-color);\n",
              "      border-bottom-color: var(--fill-color);\n",
              "    }\n",
              "    90% {\n",
              "      border-color: transparent;\n",
              "      border-bottom-color: var(--fill-color);\n",
              "    }\n",
              "  }\n",
              "</style>\n",
              "\n",
              "  <script>\n",
              "    async function quickchart(key) {\n",
              "      const quickchartButtonEl =\n",
              "        document.querySelector('#' + key + ' button');\n",
              "      quickchartButtonEl.disabled = true;  // To prevent multiple clicks.\n",
              "      quickchartButtonEl.classList.add('colab-df-spinner');\n",
              "      try {\n",
              "        const charts = await google.colab.kernel.invokeFunction(\n",
              "            'suggestCharts', [key], {});\n",
              "      } catch (error) {\n",
              "        console.error('Error during call to suggestCharts:', error);\n",
              "      }\n",
              "      quickchartButtonEl.classList.remove('colab-df-spinner');\n",
              "      quickchartButtonEl.classList.add('colab-df-quickchart-complete');\n",
              "    }\n",
              "    (() => {\n",
              "      let quickchartButtonEl =\n",
              "        document.querySelector('#df-e6540ec8-d770-410d-a09d-0661c49f8f0a button');\n",
              "      quickchartButtonEl.style.display =\n",
              "        google.colab.kernel.accessAllowed ? 'block' : 'none';\n",
              "    })();\n",
              "  </script>\n",
              "</div>\n",
              "\n",
              "    </div>\n",
              "  </div>\n"
            ],
            "application/vnd.google.colaboratory.intrinsic+json": {
              "type": "dataframe",
              "variable_name": "originalDataset"
            }
          },
          "metadata": {},
          "execution_count": 39
        }
      ]
    },
    {
      "cell_type": "code",
      "source": [
        "originalDataset.shape"
      ],
      "metadata": {
        "id": "c746H2e68X1p",
        "colab": {
          "base_uri": "https://localhost:8080/"
        },
        "outputId": "ecce19ac-4066-47cc-e1d1-bf4d55fd0d5a"
      },
      "execution_count": null,
      "outputs": [
        {
          "output_type": "execute_result",
          "data": {
            "text/plain": [
              "(541, 44)"
            ]
          },
          "metadata": {},
          "execution_count": 40
        }
      ]
    },
    {
      "cell_type": "markdown",
      "source": [
        "Now, we make x have all the features and y have only the target."
      ],
      "metadata": {
        "id": "3GXP5JlS8ZRz"
      }
    },
    {
      "cell_type": "code",
      "source": [
        "x = originalDataset.iloc[:, 3:44]\n",
        "y = originalDataset.iloc[:, 2]\n",
        "x.shape\n"
      ],
      "metadata": {
        "id": "ZHB_iaTl8b6n",
        "colab": {
          "base_uri": "https://localhost:8080/"
        },
        "outputId": "0e50875e-d963-4b55-aa33-9b78ede21839"
      },
      "execution_count": null,
      "outputs": [
        {
          "output_type": "execute_result",
          "data": {
            "text/plain": [
              "(541, 41)"
            ]
          },
          "metadata": {},
          "execution_count": 41
        }
      ]
    },
    {
      "cell_type": "markdown",
      "source": [
        "Split dataset into train, test, and validation."
      ],
      "metadata": {
        "id": "bGQKgd448gK2"
      }
    },
    {
      "cell_type": "code",
      "source": [
        "x_train, x_test, y_train, y_test = train_test_split(x, y, test_size=0.3, random_state=1)\n",
        "#30% test, 70% train"
      ],
      "metadata": {
        "id": "Nk4uT_2c8hdh"
      },
      "execution_count": null,
      "outputs": []
    },
    {
      "cell_type": "markdown",
      "source": [
        "### Backward Elimination\n",
        "Now, we will proceed to implement backward elimination on the dataset. Backward elimination allows us to see which features in the dataset have the most value in determining the outcome. The features with the most value are then used to train the machine learning model."
      ],
      "metadata": {
        "id": "4OIRM6JW8jKC"
      }
    },
    {
      "cell_type": "code",
      "source": [
        "def backwardElimination(x, y, sigLvl=0.05):\n",
        "  xValues = x.copy() #start with all features\n",
        "  while True:\n",
        "    model = sm.OLS(y, xValues).fit()\n",
        "    pVals = model.pvalues\n",
        "    maxPVal = pVals.max()\n",
        "\n",
        "    #if all p values are below 0.05 then stop\n",
        "    if maxPVal < sigLvl:\n",
        "      break\n",
        "\n",
        "    badFeature = pVals.idxmax()\n",
        "    xValues.drop(columns=[badFeature], inplace=True)\n",
        "    print(f\"{badFeature} was removed with p value of {maxPVal:.4f}\")\n",
        "\n",
        "  return xValues"
      ],
      "metadata": {
        "id": "Qa_6Tp_y8i8r"
      },
      "execution_count": null,
      "outputs": []
    },
    {
      "cell_type": "code",
      "source": [
        "xTrainValues = backwardElimination(x_train, y_train)\n",
        "xTestValues = x_test[xTrainValues.columns]\n"
      ],
      "metadata": {
        "id": "m6nDZ5En9El4",
        "colab": {
          "base_uri": "https://localhost:8080/"
        },
        "outputId": "60656a6d-9d50-4e29-df17-42bc15ad45f2"
      },
      "execution_count": null,
      "outputs": [
        {
          "output_type": "stream",
          "name": "stdout",
          "text": [
            "Blood group was removed with p value of 0.9877\n",
            "RR (breaths/min) was removed with p value of 0.9683\n",
            "Age (yrs) was removed with p value of 0.9392\n",
            "BP _Systolic (mmHg) was removed with p value of 0.9341\n",
            "Vit D3 (ng/mL) was removed with p value of 0.9321\n",
            "Endometrium (mm) was removed with p value of 0.9114\n",
            "Avg. F size (R) (mm) was removed with p value of 0.8843\n",
            "No. of abortions was removed with p value of 0.8239\n",
            "Pregnant(Y/N) was removed with p value of 0.7969\n",
            "Reg.Exercise(Y/N) was removed with p value of 0.6893\n",
            "BP _Diastolic (mmHg) was removed with p value of 0.6853\n",
            "FSH(mIU/mL) was removed with p value of 0.6546\n",
            "RBS(mg/dl) was removed with p value of 0.6527\n",
            "AMH(ng/mL) was removed with p value of 0.5783\n",
            "PRL(ng/mL) was removed with p value of 0.5403\n",
            "Hb(g/dl) was removed with p value of 0.4653\n",
            "Hair loss(Y/N) was removed with p value of 0.4657\n",
            "Marraige Status (Yrs) was removed with p value of 0.4057\n",
            "II beta-HCG(mIU/mL) was removed with p value of 0.4054\n",
            "I beta-HCG(mIU/mL was removed with p value of 0.6337\n",
            "Waist (inch) was removed with p value of 0.3877\n",
            "Waist:Hip Ratio was removed with p value of 0.6489\n",
            "Pulse Rate (bpm) was removed with p value of 0.2370\n",
            "TSH (mIU/L) was removed with p value of 0.2589\n",
            "Weight (kg) was removed with p value of 0.1912\n",
            "BMI was removed with p value of 0.3870\n",
            "Hip (inch) was removed with p value of 0.2767\n",
            "FSH/LH was removed with p value of 0.1063\n",
            "Avg. F size (L) (mm) was removed with p value of 0.1439\n",
            "PRG(ng/mL) was removed with p value of 0.0859\n",
            "Cycle length(days was removed with p value of 0.0624\n",
            "Fast food (Y/N) was removed with p value of 0.0530\n"
          ]
        }
      ]
    },
    {
      "cell_type": "code",
      "source": [
        "print(xTrainValues.columns)"
      ],
      "metadata": {
        "colab": {
          "base_uri": "https://localhost:8080/"
        },
        "id": "7e-VXovLDDAw",
        "outputId": "8103ecde-d831-44e9-8fe6-8c5e67a302c8"
      },
      "execution_count": null,
      "outputs": [
        {
          "output_type": "stream",
          "name": "stdout",
          "text": [
            "Index(['Height (cm) ', 'Cycle(R/I)', 'LH(mIU/mL)', 'Weight gain (Y/N)',\n",
            "       'hair growth(Y/N)', 'Skin darkening (Y/N)', 'Pimples (Y/N)',\n",
            "       'Follicle No. (L)', 'Follicle No. (R)'],\n",
            "      dtype='object')\n"
          ]
        }
      ]
    },
    {
      "cell_type": "markdown",
      "source": [
        "By implementing back elimination, we can ensure that only features that are significant are used to train the dataset. This ensures that the dataset focuses purely on related features.\n",
        "<br>\n",
        "<br>These are the features left after backwards elimination has been implemented:\n",
        "*   Height (cm)\n",
        "*   Cycle(R/I)\n",
        "*   LH(mIU/mL)\n",
        "*   Weight gain (Y/N)\n",
        "*   Hair growth (Y/N)\n",
        "*   Skin darkening (Y/N)\n",
        "*   Pimples (Y/N)\n",
        "*   Follicle No. (L)\n",
        "*   Follicle No. (R)\n",
        "\n",
        "\n"
      ],
      "metadata": {
        "id": "LoDuNq6uDSN6"
      }
    }
  ]
}